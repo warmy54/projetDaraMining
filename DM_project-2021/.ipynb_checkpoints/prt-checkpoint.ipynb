{
 "cells": [
  {
   "cell_type": "markdown",
   "metadata": {},
   "source": [
    "# Data Mining final Project\n",
    "\n",
    "For the project you are going to work in groups of 2.\n",
    "\n",
    "## Aim\n",
    "The aim of this project is to predict molecular properties.  You are going to work with molecular data and you have  to predict 4 molecular properties,  the Octanol-water partition coefficient (logP),  the number of rotatable bonds (RBN),  the molecular weight (MW) and the number of the rings (RN).\n",
    "\n",
    "## Data\n",
    "\n",
    "You are going to work using a subset the QM9 dataset.  The original QM9 dataset [Ramakrishnan et al.,2014)](ttps://www.nature.com/articles/sdata201422), contains $134k $ stable small organic molecules with up to 9 heavy atoms.\n",
    "\n",
    "\n",
    "The data  consists of the following files:\n",
    "1. QM9.txt\n",
    "2. properties_QM9.npz\n",
    "\n",
    "In **QM9.txt** the molecules are represented as SMILES  (Simplified molecular-input line-entry system).  SMILES strings proposed by Weininger (1988),  are non-unique representations which encode the molecular graph into a sequence of ASCII characters using a depth-first graph traversal.\n",
    "\n",
    "For this project we ask you to predict 4 molecular properties,  the Octanol-water partition coefficient (logP),  the  number of rotatable bonds (RBN),  the molecular weight (MW) and the number of the rings (RN).  \n",
    "\n",
    "- logP: represents a measure of the tendency of a compound to move from the aqueous phase into lipids\n",
    "- Number of rotatable bonds (RBN):  the number of bonds which allow free rotation around themselves \n",
    "- Molecular weight (MW): the weight of a molecule based on the atomic masses of all atoms in the molecule\n",
    "- Number of the rings (RN): the number of connected sets of atoms and bonds in which every atom and bond is a member of a cycle\n",
    "\n",
    "**properties\\_QM9.npz** file contains these 4 properties for the QM9.txt data.  \n",
    "\n",
    "\n",
    "## Model\n",
    "Before starting your analysis it is very important to understand the data and the objective of this project.\n",
    "\n",
    "You are free to chose the representation of the data that you are going to use. If you want to work with one-hot-encoding data (see project.pdf for details) you can find the code to convert a single smile string to a one-hot encoding in `smile_to_hot()` function at `utils.py`.\n",
    " You can even use as input data different properties and descriptors (number of bonds,  number of atoms,  number of C, number of O e.t.c. )  that you can extract from your data  manually or using RDKit.  (The properties that we mention are random examples,  there are much more properties and descriptors for the molecules and you have to think what it makes sense for you to use). \n",
    "\n",
    "You are free to try different approaches and models,  you can use ready libraries for your algorithm. The main focus is to see the model you have come up but also the other approaches that you tried. You have to understand deeply all the algorithms that you have tried. \n",
    "\n",
    "\n",
    "\n",
    "Using load\\_data() function in utils.py split the data and the corresponding properties  into train and test.  Use **cross-validation** to select the best model based on **statistical significant test**.  Only for the best model you will use the test data (of course you have to include in your report and present all the models that you have tried).   **It is mandatory to use three or more different algorithms in addition to a baseline**. \n",
    "\n",
    "(The baseline is the naive baseline algorithm,  providing context on just how good a given method actually is.)\n",
    "\n",
    "\n",
    "The final model we would expect is a model that can work on universal data,  which means it can give a reasonable prediction on different molecular datasets.\n",
    " \n",
    "\n",
    "\n",
    "## Report\n",
    "You have to submit a formal report .  Your report has to include the approaches that you followed and main results not only for your final model but for all the models you have tried. We want a full picture of what exactly you have done and how. You should also discuss the different performances you have with your methods and explain why these work or not. What is important is to show us that you have a good understanding of the problem and of how to model it, what are the problems you encountered and how you solved them.\n",
    "\n",
    "\n",
    "Note that this is an open project, you can try many different approaches as long as they make sense to get the best performance (creative ideas are always welcome).\n",
    "\n",
    "## Final submission\n",
    "For your final submission you have to submit on Moodle a folder named using your names (ex. NAME1_NAME2_DM_project) which should include your code (all the scripts), the dataset and your report (the report should also be saved using your names: NAME1_NAME2_DM_project.pdf).  If the size of your submission is big you can upload your submission on [SWITCH drive](https://www.switch.ch) and put on Moodle the shared link. "
   ]
  },
  {
   "cell_type": "markdown",
   "metadata": {},
   "source": [
    "## Installation Instructions\n",
    "Below you will find some instructions about how to install some packages that required for the project through Conda.\n",
    "\n",
    "[Conda](https://docs.conda.io/en/latest/) is a package manager that works on all the popular operating systems. If you do not already have it installed (e.g. through Anaconda) you can install it via Miniconda by following the instructions [here](https://docs.conda.io/en/latest/miniconda.html) -- it doesn't matter which version of Python you pick at this stage.  We can then setup the particular environment  using the [Conda yml file](https://docs.conda.io/projects/conda/en/latest/user-guide/tasks/manage-environments.html#creating-an-environment-from-an-environment-yml-file) I put in the folder of the project.\n",
    "\n",
    "\n",
    "Assuming you have Conda installed,  install the environment by:\n",
    "\n",
    "1. `conda env create -f DM_project_env.yml`\n",
    "2. `conda activate DM_project`\n",
    "3. And then finally check it worked correctly by running \\$ `conda env list`\n",
    "\n",
    "To **activate your enviroment** type: `$ conda activate DM_project`\n",
    "and to deactivete it you should type `$ conda deactivate`\n",
    "\n",
    "\n"
   ]
  },
  {
   "cell_type": "markdown",
   "metadata": {},
   "source": [
    "## Smiles - RDKit\n",
    "\n",
    "Now we will see some examples how we can use RDKit to visualize the molecules and how we can extract different descriptors"
   ]
  },
  {
   "cell_type": "code",
   "execution_count": 1,
   "metadata": {},
   "outputs": [
    {
     "name": "stdout",
     "output_type": "stream",
     "text": [
      "# conda environments:\n",
      "#\n",
      "base                     C:\\Users\\Yaser\\anaconda3\n",
      "DM_project            *  C:\\Users\\Yaser\\anaconda3\\envs\\DM_project\n",
      "\n",
      "\n",
      "Note: you may need to restart the kernel to use updated packages.\n"
     ]
    }
   ],
   "source": [
    "conda env list"
   ]
  },
  {
   "cell_type": "code",
   "execution_count": 2,
   "metadata": {},
   "outputs": [],
   "source": [
    "import numpy as np"
   ]
  },
  {
   "cell_type": "code",
   "execution_count": 3,
   "metadata": {},
   "outputs": [
    {
     "name": "stdout",
     "output_type": "stream",
     "text": [
      "2020.03.1\n"
     ]
    }
   ],
   "source": [
    "# import the parts of RDKit that we need\n",
    "import rdkit\n",
    "from rdkit import Chem\n",
    "from rdkit.Chem import AllChem\n",
    "from rdkit.Chem import Draw\n",
    "from rdkit.Chem import PandasTools\n",
    "from rdkit.Chem import Descriptors\n",
    "from rdkit import DataStructs\n",
    "from rdkit.Chem.Draw import IPythonConsole\n",
    "from rdkit.Chem import rdDepictor, rdMolDescriptors\n",
    "\n",
    "\n",
    "from rdkit.Chem.Draw import IPythonConsole\n",
    "\n",
    "\n",
    "import time\n",
    "rdDepictor.SetPreferCoordGen(True)\n",
    "print(rdkit.__version__)\n"
   ]
  },
  {
   "cell_type": "markdown",
   "metadata": {},
   "source": [
    "If get an error runing the previous cell \n",
    "- first check that you have installed correctly your enviroment (check if you can see it if you type in your termilal `$ conda env list`). \n",
    "- If the enviroment is installed correctly make sure that you have activated it (`$ conda activate DM_project`) before you opened the jupyter notebook."
   ]
  },
  {
   "cell_type": "markdown",
   "metadata": {},
   "source": [
    "\n",
    "##  Reading in SMILES strings\n",
    "\n",
    "SMILES (Simplified molecular-input line-entry system) proposed by Weininger (1988) is a popular method to represent molecules as ASCII strings. The string is created by printing out the nodes found on a traversal of the molecular graph. The idea behind is to use simple line notations for chemical formulas that are based on some rules.\n",
    "\n",
    "\n",
    "Atoms of chemical elements are represented by chemical symbols in capital letter, hydrogen is usually ignored. Single bonds are not displayed; for double, triple and quadruple bonds we shall use '=', '#', '$' respectively. Atoms that are bonded must stand nearby. Ring structures are written by breaking each ring at an arbitrary point (although some choices will lead to a more legible SMILES than others) to make a 'straight non-ring' structure (as if it wasn't a ring) and adding numerical ring closure labels to show connectivity between non-adjacent atoms. Aromacity is commonly illustrated by writing the constituent B, C, N, O, P and S atoms in lower-case forms b, c, n, o, p and s, respectively.\n",
    "\n",
    "\n"
   ]
  },
  {
   "cell_type": "markdown",
   "metadata": {},
   "source": [
    "## RDKit\n",
    "\n",
    "\n",
    "RDKit is a collection of cheminformatics and machine learning tools written in C++ and Python. It allows to work with many representations of chemical data and has a power to extract almost each chemical descriptor from the data you have. \n",
    "\n",
    "You can learn more about how to use RDKit, in the RDKit [documentation](http://www.rdkit.org/docs/index.html)."
   ]
  },
  {
   "cell_type": "markdown",
   "metadata": {},
   "source": [
    "### Using RDKit"
   ]
  },
  {
   "cell_type": "markdown",
   "metadata": {},
   "source": [
    "Let's start by defining a string variable containing the SMILES representation of the paracetemol (i.e. acetaminophen) molecule, a popular painkiller and reading it into RDKit.\n"
   ]
  },
  {
   "cell_type": "markdown",
   "metadata": {},
   "source": [
    "### Visualization of molecules\n",
    "\n",
    "In order to visualize the the SMILES we have to convert them to molecules. This happened running `Chem.MolFromSmiles`.\n",
    "\n"
   ]
  },
  {
   "cell_type": "code",
   "execution_count": 4,
   "metadata": {},
   "outputs": [
    {
     "data": {
      "image/png": "[encoded data removed]",
      "text/plain": [
       "<PIL.PngImagePlugin.PngImageFile image mode=RGB size=300x300 at 0x1D803ED2748>"
      ]
     },
     "execution_count": 4,
     "metadata": {},
     "output_type": "execute_result"
    }
   ],
   "source": [
    "paracetemol_str = 'CC(=O)Nc1ccc(O)cc1'\n",
    "\n",
    "# convert smile to mol\n",
    "paracetemol_mol = Chem.MolFromSmiles(paracetemol_str)\n",
    "\n",
    "# visualize mol\n",
    "Draw.MolToImage(paracetemol_mol)"
   ]
  },
  {
   "cell_type": "markdown",
   "metadata": {},
   "source": [
    "Once we have converted the SMILES to a RDKit `Mol` object (which happened when running `Chem.MolFromSmiles`) we can manipulate it in different ways. For example, we can iterate through the atoms or bonds:"
   ]
  },
  {
   "cell_type": "code",
   "execution_count": 5,
   "metadata": {},
   "outputs": [
    {
     "name": "stdout",
     "output_type": "stream",
     "text": [
      "Atom element: C, atomic number: 6, number of hydrogens 3\n",
      "Atom element: C, atomic number: 6, number of hydrogens 0\n",
      "Atom element: O, atomic number: 8, number of hydrogens 0\n",
      "Atom element: N, atomic number: 7, number of hydrogens 1\n",
      "Atom element: C, atomic number: 6, number of hydrogens 0\n",
      "Atom element: C, atomic number: 6, number of hydrogens 1\n",
      "Atom element: C, atomic number: 6, number of hydrogens 1\n",
      "Atom element: C, atomic number: 6, number of hydrogens 0\n",
      "Atom element: O, atomic number: 8, number of hydrogens 1\n",
      "Atom element: C, atomic number: 6, number of hydrogens 1\n",
      "Atom element: C, atomic number: 6, number of hydrogens 1\n",
      "\n",
      "\n",
      "\n",
      "Bond from 0 to 1 and is of type SINGLE.\n",
      "Bond from 1 to 2 and is of type DOUBLE.\n",
      "Bond from 1 to 3 and is of type SINGLE.\n",
      "Bond from 3 to 4 and is of type SINGLE.\n",
      "Bond from 4 to 5 and is of type AROMATIC.\n",
      "Bond from 5 to 6 and is of type AROMATIC.\n",
      "Bond from 6 to 7 and is of type AROMATIC.\n",
      "Bond from 7 to 8 and is of type SINGLE.\n",
      "Bond from 7 to 9 and is of type AROMATIC.\n",
      "Bond from 9 to 10 and is of type AROMATIC.\n",
      "Bond from 10 to 4 and is of type AROMATIC.\n"
     ]
    }
   ],
   "source": [
    "# Iterate through the atoms. Print their symbol,  atomic number, and number of Hydrogens\n",
    "for atm in paracetemol_mol.GetAtoms():\n",
    "    print(f\"Atom element: {atm.GetSymbol()}, atomic number: {atm.GetAtomicNum()}, number of hydrogens {atm.GetTotalNumHs()}\")\n",
    "\n",
    "    \n",
    "print(\"\\n\\n\")\n",
    "\n",
    "\n",
    "# Iterate through the bonds\n",
    "for bnd in paracetemol_mol.GetBonds():\n",
    "    print(f\"Bond from {bnd.GetBeginAtomIdx()} to {bnd.GetEndAtomIdx()} and is of type {bnd.GetBondType()}.\")\n"
   ]
  },
  {
   "cell_type": "markdown",
   "metadata": {},
   "source": [
    "Note that when we iterated through the atoms we also printed the number of hydrogen atoms attached. You may have spotted that these hydrogen atoms were not included in the original SMILES string. In general we ignore the hydrogen atoms (they are treated implicitly) but we can include them in SMILES strings if we wanted:"
   ]
  },
  {
   "cell_type": "code",
   "execution_count": 6,
   "metadata": {},
   "outputs": [
    {
     "name": "stdout",
     "output_type": "stream",
     "text": [
      "[CH3][C](=[O])[NH][c]1[cH][cH][c]([OH])[cH][cH]1\n"
     ]
    }
   ],
   "source": [
    "print(Chem.MolToSmiles(paracetemol_mol, allHsExplicit=True))"
   ]
  },
  {
   "cell_type": "markdown",
   "metadata": {},
   "source": [
    "### Numbers of atoms of molecule\n",
    "\n",
    "The size of a molecule can be approximated by a number of atoms in it. Let's extract corresponding values from MOL. RDkit provides GetNumAtoms() "
   ]
  },
  {
   "cell_type": "code",
   "execution_count": 7,
   "metadata": {},
   "outputs": [
    {
     "name": "stdout",
     "output_type": "stream",
     "text": [
      "Number of total atoms in paracetamol : 20\n",
      "Number of atoms in paracetamol (excluding H): 11\n"
     ]
    },
    {
     "data": {
      "image/png": "[encoded data removed]",
      "text/plain": [
       "<rdkit.Chem.rdchem.Mol at 0x1d803f08490>"
      ]
     },
     "execution_count": 7,
     "metadata": {},
     "output_type": "execute_result"
    }
   ],
   "source": [
    "# AddHs function adds H atoms to a MOL (as Hs in SMILES are usualy ignored)\n",
    "# GetNumAtoms() method returns a general nubmer of all atoms in a molecule including H\n",
    "\n",
    "\n",
    "paracetemol_mol_with_H = Chem.AddHs(paracetemol_mol)\n",
    "\n",
    "print('Number of total atoms in paracetamol :', paracetemol_mol_with_H.GetNumAtoms())\n",
    "print('Number of atoms in paracetamol (excluding H):', paracetemol_mol.GetNumAtoms())\n",
    "\n",
    "paracetemol_mol_with_H"
   ]
  },
  {
   "cell_type": "markdown",
   "metadata": {},
   "source": [
    "### Descriptors\n",
    "A number of general molecular descriptors that can also be used to featurize a molecule are provided by `rdkit.Chem.Descriptors` and `rdkit.Chem.rdMolDescriptors`. Bellow we can see some examples. More examples and a detailed descripton you can find in **RDKit** documantation.\n",
    "\n"
   ]
  },
  {
   "cell_type": "code",
   "execution_count": 8,
   "metadata": {},
   "outputs": [
    {
     "name": "stdout",
     "output_type": "stream",
     "text": [
      "Number of heavy atoms in paracetamol: 11\n",
      "Average molecular weight ignoring hydrogens: 142.093\n",
      "logP in paracetamol: 1.3505999999999998\n",
      "drug-likeness: 0.5950261967780849\n",
      "Molecular weight: 151.165\n",
      "Number of ring: 1\n",
      "Number of H-bond donors: 2\n",
      "Number of H-bond acceptors: 2\n"
     ]
    }
   ],
   "source": [
    "# Descriptors.HeavyAtomCount returns a nubmer of all atoms in a molecule with molecular weight > 1\n",
    "# Descriptors.HeavyAtomMolWt the average molecular weight of the molecule ignoring hydrogens\n",
    "# Descriptors.MolLogP returns the Octanol-water partition coefficient\n",
    "# Descriptors.qed returns the drug-likeness \n",
    "# Descriptors.MolW returns the Molecular weight\n",
    "# Descriptors.NumRotatableBonds returns the number of rotatable bond\n",
    "# ...\n",
    "\n",
    "desc_HeavyAtomCount = Descriptors.HeavyAtomCount(paracetemol_mol)\n",
    "desc_HeavyAtomMolWt = Descriptors.HeavyAtomMolWt(paracetemol_mol)\n",
    "desc_MolLogP = Descriptors.MolLogP(paracetemol_mol)\n",
    "desc_qed = Descriptors.qed(paracetemol_mol)\n",
    "desc_MolWt = Descriptors.MolWt(paracetemol_mol)\n",
    "desc_NumRotatableBonds = Descriptors.NumRotatableBonds(paracetemol_mol)\n",
    "\n",
    "print('Number of heavy atoms in paracetamol:', desc_HeavyAtomCount)\n",
    "print('Average molecular weight ignoring hydrogens:', desc_HeavyAtomMolWt)\n",
    "\n",
    "print('logP in paracetamol:', desc_MolLogP)\n",
    "print('drug-likeness:', desc_qed)\n",
    "print('Molecular weight:', desc_MolWt)\n",
    "\n",
    "\n",
    "# rdMolDescriptors.CalcNumRings returns the number of rings for a molecule\n",
    "# rdMolDescriptors.CalcNumHBD returns the number of H-bond donors for a molecule\n",
    "# rdMolDescriptors.CalcNumHBA returns the number of H-bond acceptors for a molecule\n",
    "# ...\n",
    "\n",
    "num_rings = rdMolDescriptors.CalcNumRings(paracetemol_mol)\n",
    "num_H_donors = rdMolDescriptors.CalcNumHBD(paracetemol_mol)\n",
    "num_H_acceptors = rdMolDescriptors.CalcNumHBA(paracetemol_mol)\n",
    "\n",
    "print('Number of ring:', num_rings)\n",
    "print('Number of H-bond donors:', num_H_donors)\n",
    "print('Number of H-bond acceptors:', num_H_acceptors)\n",
    "\n"
   ]
  },
  {
   "cell_type": "markdown",
   "metadata": {},
   "source": [
    "## Defining and viewing a set of example molecules\n"
   ]
  },
  {
   "cell_type": "code",
   "execution_count": 9,
   "metadata": {},
   "outputs": [],
   "source": [
    "naphthalene = Chem.MolFromSmiles('c12ccccc1cccc2')\n",
    "benzoxazole = Chem.MolFromSmiles('n1c2ccccc2oc1')\n",
    "indane = Chem.MolFromSmiles('c1ccc2c(c1)CCC2')\n",
    "skatole = Chem.MolFromSmiles('CC1=CNC2=CC=CC=C12')\n",
    "benzene = Chem.MolFromSmiles('c1ccccc1')\n",
    "quinoline = Chem.MolFromSmiles('n1cccc2ccccc12')\n",
    "\n",
    "my_molecules = [naphthalene, \n",
    "                benzoxazole,\n",
    "                indane,\n",
    "                skatole,\n",
    "                benzene,\n",
    "                quinoline,\n",
    "               ]"
   ]
  },
  {
   "cell_type": "markdown",
   "metadata": {},
   "source": [
    "It's easy to get a look at the structure of these molecules.\n",
    "\n"
   ]
  },
  {
   "cell_type": "code",
   "execution_count": 10,
   "metadata": {},
   "outputs": [
    {
     "data": {
      "image/png": "[encoded data removed]",
      "text/plain": [
       "<PIL.PngImagePlugin.PngImageFile image mode=RGB size=600x400 at 0x1D803F1BB88>"
      ]
     },
     "execution_count": 10,
     "metadata": {},
     "output_type": "execute_result"
    }
   ],
   "source": [
    "Draw.MolsToGridImage(my_molecules)\n"
   ]
  },
  {
   "cell_type": "markdown",
   "metadata": {},
   "source": [
    "## Importing QM9 dataset and properties"
   ]
  },
  {
   "cell_type": "code",
   "execution_count": 11,
   "metadata": {},
   "outputs": [],
   "source": [
    "from utils import get_smiles_encodings, load_data, smile_to_hot"
   ]
  },
  {
   "cell_type": "code",
   "execution_count": 12,
   "metadata": {},
   "outputs": [],
   "source": [
    "# pip install --upgrade --force-reinstall pillow"
   ]
  },
  {
   "cell_type": "code",
   "execution_count": 13,
   "metadata": {},
   "outputs": [],
   "source": [
    "#!pip install pillow"
   ]
  },
  {
   "cell_type": "code",
   "execution_count": 14,
   "metadata": {},
   "outputs": [],
   "source": [
    "import PIL"
   ]
  },
  {
   "cell_type": "code",
   "execution_count": 15,
   "metadata": {},
   "outputs": [],
   "source": [
    "file_smiles = './dataset/QM9.txt'\n",
    "\n",
    "# get smiles, alphabet and length of largest molecule in SMILES from the dataset\n",
    "smiles, alphabet, largest_molecule_len = get_smiles_encodings(file_smiles)"
   ]
  },
  {
   "cell_type": "code",
   "execution_count": 16,
   "metadata": {},
   "outputs": [
    {
     "name": "stdout",
     "output_type": "stream",
     "text": [
      "QM9 dataset alphabet: ['3', '1', 'O', ')', 'N', '#', 'F', 'C', '2', '4', '=', '5', '(', ' ']\n",
      "length of largest molecule: 22\n",
      "some smiles: ['N=C1OC2CC1C2' 'O=C1CC2CC1C2' 'O=C1CC2CC1O2' 'O=C1CN2CC1C2'\n",
      " 'O=C1NC2CC1C2' 'O=C1OC2CC1C2']\n"
     ]
    }
   ],
   "source": [
    "print('QM9 dataset alphabet:', alphabet)\n",
    "print('length of largest molecule:',largest_molecule_len)\n",
    "print('some smiles:',smiles[2443:2449])"
   ]
  },
  {
   "cell_type": "code",
   "execution_count": 17,
   "metadata": {},
   "outputs": [],
   "source": [
    "file_properties = './dataset/properties_QM9.npz'\n",
    "\n",
    "# load the properties: logP, RBN, MW, RN\n",
    "properties = np.load(file_properties)['properties'].astype(np.float32)"
   ]
  },
  {
   "cell_type": "code",
   "execution_count": 18,
   "metadata": {},
   "outputs": [
    {
     "data": {
      "text/plain": [
       "array([[  0.6361,   0.    ,  16.043 ,   0.    ],\n",
       "       [  0.162 ,   0.    ,  17.031 ,   0.    ],\n",
       "       [ -0.8247,   0.    ,  18.015 ,   0.    ],\n",
       "       ...,\n",
       "       [ -0.8808,   0.    , 120.155 ,   8.    ],\n",
       "       [  0.3187,   0.    , 119.167 ,   8.    ],\n",
       "       [ -0.55  ,   0.    , 121.139 ,   8.    ]], dtype=float32)"
      ]
     },
     "execution_count": 18,
     "metadata": {},
     "output_type": "execute_result"
    }
   ],
   "source": [
    "properties"
   ]
  },
  {
   "cell_type": "code",
   "execution_count": 19,
   "metadata": {},
   "outputs": [
    {
     "ename": "NameError",
     "evalue": "name 'y_train' is not defined",
     "output_type": "error",
     "traceback": [
      "\u001b[1;31m---------------------------------------------------------------------------\u001b[0m",
      "\u001b[1;31mNameError\u001b[0m                                 Traceback (most recent call last)",
      "\u001b[1;32m<ipython-input-19-12ac67692baf>\u001b[0m in \u001b[0;36m<module>\u001b[1;34m\u001b[0m\n\u001b[1;32m----> 1\u001b[1;33m \u001b[0mset\u001b[0m\u001b[1;33m(\u001b[0m\u001b[0my_train\u001b[0m\u001b[1;33m[\u001b[0m\u001b[1;33m:\u001b[0m\u001b[1;33m,\u001b[0m\u001b[1;36m3\u001b[0m\u001b[1;33m]\u001b[0m\u001b[1;33m)\u001b[0m\u001b[1;33m\u001b[0m\u001b[1;33m\u001b[0m\u001b[0m\n\u001b[0m",
      "\u001b[1;31mNameError\u001b[0m: name 'y_train' is not defined"
     ]
    }
   ],
   "source": [
    "#set(y_train[:,3])"
   ]
  },
  {
   "cell_type": "code",
   "execution_count": 20,
   "metadata": {},
   "outputs": [
    {
     "name": "stdout",
     "output_type": "stream",
     "text": [
      "X_train shape: (92428,)\n",
      "X_test shape: (39612,)\n",
      "y_train shape: (92428, 4)\n",
      "y_test shape: <class 'numpy.ndarray'>\n"
     ]
    },
    {
     "data": {
      "text/plain": [
       "22"
      ]
     },
     "execution_count": 20,
     "metadata": {},
     "output_type": "execute_result"
    }
   ],
   "source": [
    "# Split data to train and test\n",
    "\n",
    "X_train, X_test, y_train, y_test = load_data(smiles, properties)\n",
    "\n",
    "print('X_train shape:', X_train.shape)\n",
    "print('X_test shape:', X_test.shape)\n",
    "print('y_train shape:', y_train.shape)\n",
    "print('y_test shape:', type(y_test))\n",
    "alphabet\n",
    "largest_molecule_len"
   ]
  },
  {
   "cell_type": "code",
   "execution_count": 21,
   "metadata": {},
   "outputs": [],
   "source": [
    "# Convert a single smile string to a one-hot encoding\n",
    "idx = 636\n",
    "integer_encoded, onehot_smile = smile_to_hot(X_train[idx], largest_molecule_len, alphabet)"
   ]
  },
  {
   "cell_type": "code",
   "execution_count": 22,
   "metadata": {},
   "outputs": [
    {
     "name": "stdout",
     "output_type": "stream",
     "text": [
      "smile string: C1CC11COC1\n",
      "one-hot encoded smile: [[0 0 0 0 0 0 0 1 0 0 0 0 0 0]\n",
      " [0 1 0 0 0 0 0 0 0 0 0 0 0 0]\n",
      " [0 0 0 0 0 0 0 1 0 0 0 0 0 0]\n",
      " [0 0 0 0 0 0 0 1 0 0 0 0 0 0]\n",
      " [0 1 0 0 0 0 0 0 0 0 0 0 0 0]\n",
      " [0 1 0 0 0 0 0 0 0 0 0 0 0 0]\n",
      " [0 0 0 0 0 0 0 1 0 0 0 0 0 0]\n",
      " [0 0 1 0 0 0 0 0 0 0 0 0 0 0]\n",
      " [0 0 0 0 0 0 0 1 0 0 0 0 0 0]\n",
      " [0 1 0 0 0 0 0 0 0 0 0 0 0 0]\n",
      " [0 0 0 0 0 0 0 0 0 0 0 0 0 1]\n",
      " [0 0 0 0 0 0 0 0 0 0 0 0 0 1]\n",
      " [0 0 0 0 0 0 0 0 0 0 0 0 0 1]\n",
      " [0 0 0 0 0 0 0 0 0 0 0 0 0 1]\n",
      " [0 0 0 0 0 0 0 0 0 0 0 0 0 1]\n",
      " [0 0 0 0 0 0 0 0 0 0 0 0 0 1]\n",
      " [0 0 0 0 0 0 0 0 0 0 0 0 0 1]\n",
      " [0 0 0 0 0 0 0 0 0 0 0 0 0 1]\n",
      " [0 0 0 0 0 0 0 0 0 0 0 0 0 1]\n",
      " [0 0 0 0 0 0 0 0 0 0 0 0 0 1]\n",
      " [0 0 0 0 0 0 0 0 0 0 0 0 0 1]\n",
      " [0 0 0 0 0 0 0 0 0 0 0 0 0 1]]\n",
      "[7, 1, 7, 7, 1, 1, 7, 2, 7, 1, 13, 13, 13, 13, 13, 13, 13, 13, 13, 13, 13, 13]\n",
      "22\n"
     ]
    },
    {
     "data": {
      "image/png": "[encoded data removed]",
      "text/plain": [
       "<PIL.PngImagePlugin.PngImageFile image mode=RGB size=300x300 at 0x1D80402FAC8>"
      ]
     },
     "execution_count": 22,
     "metadata": {},
     "output_type": "execute_result"
    }
   ],
   "source": [
    "print('smile string:', X_train[idx])\n",
    "print('one-hot encoded smile:', onehot_smile)\n",
    "\n",
    "print(integer_encoded)\n",
    "print(len(integer_encoded))\n",
    "mol = Chem.MolFromSmiles(X_train[idx])\n",
    "\n",
    "Draw.MolToImage(mol)"
   ]
  },
  {
   "cell_type": "code",
   "execution_count": 23,
   "metadata": {},
   "outputs": [
    {
     "name": "stdout",
     "output_type": "stream",
     "text": [
      "[ 7  1  7  7  1  1  7  2  7  1 13 13 13 13 13 13 13 13 13 13 13 13]\n"
     ]
    }
   ],
   "source": [
    "# decoding the all smiles to ineter_encoded\n",
    "X_train_IC = []     # X_train Integer Encoded\n",
    "X_test_IC = []      # X_test Integer Encoded\n",
    "\n",
    "for idx in range(len(X_train)):\n",
    "    integer_encoded, onehot_smile = smile_to_hot(X_train[idx], largest_molecule_len, alphabet)\n",
    "    X_train_IC.append(integer_encoded)\n",
    "\n",
    "for idx in range(len(X_test)):\n",
    "    integer_encoded, onehot_smile = smile_to_hot(X_train[idx], largest_molecule_len, alphabet)\n",
    "    X_test_IC.append(integer_encoded)\n",
    "\n",
    "X_train_IC = np.array(X_train_IC)\n",
    "X_test_IC = np.array(X_test_IC)\n",
    "print(X_train_IC[636])"
   ]
  },
  {
   "cell_type": "code",
   "execution_count": 64,
   "metadata": {},
   "outputs": [
    {
     "name": "stdout",
     "output_type": "stream",
     "text": [
      "(92428, 22)\n",
      "(92428, 4)\n",
      "The Predicted w is :  [[ 0.18245227  0.01978164  0.01151053  0.01818241  0.02592712  0.04007504\n",
      "   0.02367037  0.02997085  0.02859262  0.02680774  0.02700842  0.01894704\n",
      "   0.01379159  0.00505376  0.00465546  0.00995507  0.00975198  0.01982079\n",
      "  -0.0078372   0.00960006  0.03856114  0.03481913]]\n",
      "(39612,)\n",
      "\n",
      "The MSE is : 1.13255E+00\n"
     ]
    },
    {
     "data": {
      "text/plain": [
       "(array([3.000e+00, 3.000e+00, 4.000e+00, 3.000e+00, 2.000e+00, 6.000e+00,\n",
       "        4.000e+00, 3.000e+00, 4.000e+00, 4.000e+00, 1.300e+01, 2.000e+01,\n",
       "        3.200e+01, 5.300e+01, 8.000e+01, 1.140e+02, 1.430e+02, 1.770e+02,\n",
       "        2.340e+02, 2.850e+02, 3.600e+02, 5.120e+02, 5.800e+02, 6.960e+02,\n",
       "        8.500e+02, 8.550e+02, 8.960e+02, 9.250e+02, 8.370e+02, 8.590e+02,\n",
       "        7.200e+02, 7.020e+02, 6.950e+02, 7.240e+02, 8.180e+02, 9.330e+02,\n",
       "        9.310e+02, 9.840e+02, 9.750e+02, 8.960e+02, 9.640e+02, 1.031e+03,\n",
       "        1.046e+03, 1.213e+03, 1.297e+03, 1.496e+03, 1.796e+03, 1.924e+03,\n",
       "        2.010e+03, 1.964e+03, 1.779e+03, 1.512e+03, 1.177e+03, 9.120e+02,\n",
       "        6.080e+02, 4.630e+02, 3.180e+02, 2.200e+02, 1.590e+02, 1.190e+02,\n",
       "        1.020e+02, 8.800e+01, 7.300e+01, 5.900e+01, 5.500e+01, 3.700e+01,\n",
       "        3.500e+01, 2.500e+01, 2.800e+01, 2.400e+01, 2.000e+01, 1.600e+01,\n",
       "        1.200e+01, 1.100e+01, 1.100e+01, 9.000e+00, 1.300e+01, 8.000e+00,\n",
       "        6.000e+00, 5.000e+00, 1.000e+00, 3.000e+00, 2.000e+00, 1.000e+00,\n",
       "        1.000e+00, 3.000e+00, 3.000e+00, 2.000e+00, 1.000e+00, 0.000e+00,\n",
       "        4.000e+00, 1.000e+00, 2.000e+00, 2.000e+00, 2.000e+00, 2.000e+00,\n",
       "        1.000e+00, 0.000e+00, 0.000e+00, 1.000e+00]),\n",
       " array([-1.15276804, -1.11381752, -1.07486699, -1.03591647, -0.99696594,\n",
       "        -0.95801542, -0.91906489, -0.88011437, -0.84116385, -0.80221332,\n",
       "        -0.7632628 , -0.72431227, -0.68536175, -0.64641122, -0.6074607 ,\n",
       "        -0.56851017, -0.52955965, -0.49060913, -0.4516586 , -0.41270808,\n",
       "        -0.37375755, -0.33480703, -0.2958565 , -0.25690598, -0.21795545,\n",
       "        -0.17900493, -0.14005441, -0.10110388, -0.06215336, -0.02320283,\n",
       "         0.01574769,  0.05469822,  0.09364874,  0.13259926,  0.17154979,\n",
       "         0.21050031,  0.24945084,  0.28840136,  0.32735189,  0.36630241,\n",
       "         0.40525294,  0.44420346,  0.48315398,  0.52210451,  0.56105503,\n",
       "         0.60000556,  0.63895608,  0.67790661,  0.71685713,  0.75580766,\n",
       "         0.79475818,  0.8337087 ,  0.87265923,  0.91160975,  0.95056028,\n",
       "         0.9895108 ,  1.02846133,  1.06741185,  1.10636238,  1.1453129 ,\n",
       "         1.18426342,  1.22321395,  1.26216447,  1.301115  ,  1.34006552,\n",
       "         1.37901605,  1.41796657,  1.4569171 ,  1.49586762,  1.53481814,\n",
       "         1.57376867,  1.61271919,  1.65166972,  1.69062024,  1.72957077,\n",
       "         1.76852129,  1.80747182,  1.84642234,  1.88537286,  1.92432339,\n",
       "         1.96327391,  2.00222444,  2.04117496,  2.08012549,  2.11907601,\n",
       "         2.15802653,  2.19697706,  2.23592758,  2.27487811,  2.31382863,\n",
       "         2.35277916,  2.39172968,  2.43068021,  2.46963073,  2.50858125,\n",
       "         2.54753178,  2.5864823 ,  2.62543283,  2.66438335,  2.70333388,\n",
       "         2.7422844 ]),\n",
       " <BarContainer object of 100 artists>)"
      ]
     },
     "execution_count": 64,
     "metadata": {},
     "output_type": "execute_result"
    },
    {
     "data": {
      "image/png": "[encoded data removed]",
      "text/plain": [
       "<Figure size 432x288 with 1 Axes>"
      ]
     },
     "metadata": {
      "needs_background": "light"
     },
     "output_type": "display_data"
    }
   ],
   "source": [
    "import matplotlib.pyplot as plt\n",
    "from regression import LinearRegression_RidgeRegression\n",
    "\n",
    "y_tr = y_train[:,0]\n",
    "#plt.hist(y_tr,100)\n",
    "y_tr = np.reshape(y_tr,(y_tr.shape[0],1))\n",
    "model_gd = LinearRegression_RidgeRegression(X_train_IC, y_tr, iterations=1, lr=0.1, l2_reg =0, \n",
    "                                          analytical_sol=True)#, SGD=True, BatchNumber = int(X_train_IC.shape[0]/10))\n",
    "\n",
    "print(X_train_IC.shape)\n",
    "print(y_train.shape)\n",
    "w = model_gd.fit()\n",
    "#print(\"\\nThe main w is      : \" , W.T)\n",
    "print(\"The Predicted w is : \" , w[:-1].T)\n",
    "\n",
    "\n",
    "y_pred = model_gd.predict(X_test_IC)\n",
    "y_pred = y_pred.reshape(y_pred.shape[0])\n",
    "print(y_test[:,0].shape)\n",
    "MSE = abs (np.sum((y_pred-y_test[:,0])**2)) / y_test.shape[0]\n",
    "print(\"\\nThe MSE is : %0.5E\" %(MSE) )\n",
    "\n",
    "plt.hist(y_test[:,0],100)\n",
    "plt.hist(y_pred,100)"
   ]
  },
  {
   "cell_type": "code",
   "execution_count": 68,
   "metadata": {},
   "outputs": [
    {
     "name": "stdout",
     "output_type": "stream",
     "text": [
      "(92428, 22)\n",
      "(92428, 4)\n",
      "The Predicted w is :  [[ 0.08764813  0.28173033  0.02226294 -0.15749344 -0.05281828 -0.1565607\n",
      "  -0.1635564  -0.22082748 -0.22501513 -0.24186524 -0.34814384 -0.38330448\n",
      "  -0.44861011 -0.4926481  -0.43488176 -0.27860601 -0.14086233 -0.0598888\n",
      "   0.02372838  0.09801806 -0.24266096  0.17300506]]\n",
      "(39612,)\n",
      "\n",
      "The MSE is : 1.14703E+02\n"
     ]
    },
    {
     "data": {
      "text/plain": [
       "(array([2.000e+00, 0.000e+00, 3.000e+00, 3.000e+00, 3.000e+00, 4.000e+00,\n",
       "        7.000e+00, 1.200e+01, 1.100e+01, 1.000e+01, 1.200e+01, 1.000e+01,\n",
       "        1.300e+01, 2.300e+01, 2.600e+01, 2.200e+01, 3.100e+01, 4.100e+01,\n",
       "        4.800e+01, 4.300e+01, 7.100e+01, 6.300e+01, 9.100e+01, 9.100e+01,\n",
       "        1.040e+02, 1.210e+02, 1.490e+02, 1.460e+02, 1.780e+02, 1.750e+02,\n",
       "        1.660e+02, 1.770e+02, 1.890e+02, 2.080e+02, 2.590e+02, 2.790e+02,\n",
       "        2.710e+02, 3.200e+02, 3.350e+02, 3.620e+02, 3.850e+02, 4.290e+02,\n",
       "        4.220e+02, 4.140e+02, 4.260e+02, 4.510e+02, 4.940e+02, 4.450e+02,\n",
       "        5.500e+02, 6.110e+02, 6.060e+02, 5.720e+02, 6.240e+02, 6.110e+02,\n",
       "        6.060e+02, 5.970e+02, 6.530e+02, 6.750e+02, 6.650e+02, 7.400e+02,\n",
       "        8.100e+02, 8.010e+02, 8.950e+02, 8.980e+02, 9.250e+02, 9.990e+02,\n",
       "        1.103e+03, 1.148e+03, 1.193e+03, 1.252e+03, 1.230e+03, 1.413e+03,\n",
       "        1.311e+03, 1.305e+03, 1.278e+03, 1.111e+03, 1.023e+03, 9.180e+02,\n",
       "        8.150e+02, 6.960e+02, 5.590e+02, 5.190e+02, 4.680e+02, 4.110e+02,\n",
       "        3.550e+02, 2.880e+02, 2.260e+02, 1.860e+02, 1.170e+02, 8.900e+01,\n",
       "        6.000e+01, 5.300e+01, 3.000e+01, 3.300e+01, 1.500e+01, 7.000e+00,\n",
       "        1.100e+01, 4.000e+00, 1.000e+00, 1.000e+00]),\n",
       " array([ 95.8217472 ,  96.18420882,  96.54667045,  96.90913207,\n",
       "         97.27159369,  97.63405532,  97.99651694,  98.35897857,\n",
       "         98.72144019,  99.08390181,  99.44636344,  99.80882506,\n",
       "        100.17128669, 100.53374831, 100.89620993, 101.25867156,\n",
       "        101.62113318, 101.98359481, 102.34605643, 102.70851805,\n",
       "        103.07097968, 103.4334413 , 103.79590293, 104.15836455,\n",
       "        104.52082617, 104.8832878 , 105.24574942, 105.60821105,\n",
       "        105.97067267, 106.33313429, 106.69559592, 107.05805754,\n",
       "        107.42051917, 107.78298079, 108.14544241, 108.50790404,\n",
       "        108.87036566, 109.23282729, 109.59528891, 109.95775053,\n",
       "        110.32021216, 110.68267378, 111.04513541, 111.40759703,\n",
       "        111.77005865, 112.13252028, 112.4949819 , 112.85744353,\n",
       "        113.21990515, 113.58236677, 113.9448284 , 114.30729002,\n",
       "        114.66975165, 115.03221327, 115.39467489, 115.75713652,\n",
       "        116.11959814, 116.48205977, 116.84452139, 117.20698301,\n",
       "        117.56944464, 117.93190626, 118.29436789, 118.65682951,\n",
       "        119.01929113, 119.38175276, 119.74421438, 120.10667601,\n",
       "        120.46913763, 120.83159925, 121.19406088, 121.5565225 ,\n",
       "        121.91898413, 122.28144575, 122.64390737, 123.006369  ,\n",
       "        123.36883062, 123.73129225, 124.09375387, 124.45621549,\n",
       "        124.81867712, 125.18113874, 125.54360037, 125.90606199,\n",
       "        126.26852361, 126.63098524, 126.99344686, 127.35590849,\n",
       "        127.71837011, 128.08083173, 128.44329336, 128.80575498,\n",
       "        129.16821661, 129.53067823, 129.89313985, 130.25560148,\n",
       "        130.6180631 , 130.98052473, 131.34298635, 131.70544797,\n",
       "        132.0679096 ]),\n",
       " <BarContainer object of 100 artists>)"
      ]
     },
     "execution_count": 68,
     "metadata": {},
     "output_type": "execute_result"
    },
    {
     "data": {
      "image/png": "[encoded data removed]",
      "text/plain": [
       "<Figure size 432x288 with 1 Axes>"
      ]
     },
     "metadata": {
      "needs_background": "light"
     },
     "output_type": "display_data"
    },
    {
     "data": {
      "image/png": "[encoded data removed]",
      "text/plain": [
       "<Figure size 432x288 with 1 Axes>"
      ]
     },
     "metadata": {
      "needs_background": "light"
     },
     "output_type": "display_data"
    }
   ],
   "source": [
    "import matplotlib.pyplot as plt\n",
    "from regression import LinearRegression_RidgeRegression\n",
    "\n",
    "y_tr = y_train[:,2]\n",
    "plt.hist(y_tr,100)\n",
    "y_tr = np.reshape(y_tr,(y_tr.shape[0],1))\n",
    "model_gd = LinearRegression_RidgeRegression(X_train_IC, y_tr, iterations=1, lr=0.1, l2_reg =0, \n",
    "                                          analytical_sol=True)#, SGD=True, BatchNumber = int(X_train_IC.shape[0]/10))\n",
    "\n",
    "print(X_train_IC.shape)\n",
    "print(y_train.shape)\n",
    "w = model_gd.fit()\n",
    "#print(\"\\nThe main w is      : \" , W.T)\n",
    "print(\"The Predicted w is : \" , w[:-1].T)\n",
    "\n",
    "\n",
    "y_pred = model_gd.predict(X_test_IC)\n",
    "y_pred = y_pred.reshape(y_pred.shape[0])\n",
    "print(y_test[:,0].shape)\n",
    "MSE = abs (np.sum((y_pred-y_test[:,2])**2)) / y_test.shape[0]\n",
    "print(\"\\nThe MSE is : %0.5E\" %(MSE) )\n",
    "\n",
    "plt.figure()\n",
    "plt.hist(y_test[:,2],100)\n",
    "plt.hist(y_pred,100)"
   ]
  },
  {
   "cell_type": "code",
   "execution_count": 41,
   "metadata": {},
   "outputs": [
    {
     "name": "stdout",
     "output_type": "stream",
     "text": [
      "(92428, 22)\n",
      "(92428,)\n"
     ]
    }
   ],
   "source": []
  },
  {
   "cell_type": "code",
   "execution_count": null,
   "metadata": {},
   "outputs": [],
   "source": []
  }
 ],
 "metadata": {
  "kernelspec": {
   "display_name": "Python 3",
   "language": "python",
   "name": "python3"
  },
  "language_info": {
   "codemirror_mode": {
    "name": "ipython",
    "version": 3
   },
   "file_extension": ".py",
   "mimetype": "text/x-python",
   "name": "python",
   "nbconvert_exporter": "python",
   "pygments_lexer": "ipython3",
   "version": "3.7.10"
  }
 },
 "nbformat": 4,
 "nbformat_minor": 4
}
